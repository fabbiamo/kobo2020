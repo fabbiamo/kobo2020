{
 "cells": [
  {
   "cell_type": "code",
   "execution_count": 1,
   "metadata": {},
   "outputs": [],
   "source": [
    "import numpy as np\n",
    "\n",
    "def AND(x1, x2):\n",
    "    x = np.array([x1, x2])\n",
    "    w = np.array([0.5, 0.5])\n",
    "    b = -0.7\n",
    "    y = np.sum(w * x) + b\n",
    "    return 0 if y <= 0 else 1\n",
    "\n",
    "def NAND(x1, x2):\n",
    "    x = np.array([x1, x2])\n",
    "    w = np.array([-0.5, -0.5])\n",
    "    b = 0.7\n",
    "    y = np.sum(w * x) + b\n",
    "    return 0 if y <= 0 else 1\n",
    "\n",
    "def OR(x1, x2):\n",
    "    x = np.array([x1, x2])\n",
    "    w = np.array([0.5, 0.5])\n",
    "    b = -0.2\n",
    "    y = np.sum(w * x) + b\n",
    "    return 0 if y <= 0 else 1\n",
    "\n",
    "def XOR(x1, x2):\n",
    "    s1 = NAND(x1, x2)\n",
    "    s2 = OR(x1, x2)\n",
    "    return AND(s1, s2)"
   ]
  },
  {
   "cell_type": "code",
   "execution_count": 2,
   "metadata": {
    "scrolled": true
   },
   "outputs": [
    {
     "name": "stdout",
     "output_type": "stream",
     "text": [
      "x1 x2 AND NAND OR XOR\n",
      "0  0  0   1    0  0\n",
      "0  1  0   1    1  1\n",
      "1  0  0   1    1  1\n",
      "1  1  1   0    1  0\n"
     ]
    }
   ],
   "source": [
    "from itertools import product\n",
    "print(\"x1 x2 AND NAND OR XOR\")\n",
    "for a, b in product([0, 1], [0, 1]):\n",
    "    print(\"{0}  {1}  {2}   {3}    {4}  {5}\".format(a, b, AND(a, b), NAND(a, b), OR(a, b), XOR(a, b)))"
   ]
  }
 ],
 "metadata": {
  "kernelspec": {
   "display_name": "Python 3",
   "language": "python",
   "name": "python3"
  },
  "language_info": {
   "codemirror_mode": {
    "name": "ipython",
    "version": 3
   },
   "file_extension": ".py",
   "mimetype": "text/x-python",
   "name": "python",
   "nbconvert_exporter": "python",
   "pygments_lexer": "ipython3",
   "version": "3.6.8"
  }
 },
 "nbformat": 4,
 "nbformat_minor": 2
}
