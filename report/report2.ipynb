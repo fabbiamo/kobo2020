{
 "cells": [
  {
   "cell_type": "code",
   "execution_count": 1,
   "metadata": {},
   "outputs": [],
   "source": [
    "import numpy as np\n",
    "\n",
    "def softmax(a):\n",
    "    m = np.max(a)\n",
    "    exp_a = np.exp(a - m)\n",
    "    return exp_a / exp_a.sum()\n",
    "\n",
    "def sigmoid(x):\n",
    "    return 1 / (1 + np.exp(-x))"
   ]
  },
  {
   "cell_type": "code",
   "execution_count": 2,
   "metadata": {},
   "outputs": [],
   "source": [
    "def init_network():\n",
    "    network={} # dict\n",
    "    network['W1'] = np.array([[.1, .3, .5], [.2, .4, .6]])\n",
    "    network['b1'] = np.array([[.1, .2, .3]])\n",
    "    network['W2'] = np.array([[.1, .4], [.2, .5], [.3, .6]])\n",
    "    network['b2'] = np.array([[.1, .2]])    \n",
    "    network['W3'] = np.array([[.1, .3], [.2, .4]])\n",
    "    network['b3'] = np.array([[.1, .2]])\n",
    "    return network\n",
    "    \n",
    "def forward(network, x):\n",
    "    W1 = network['W1']\n",
    "    b1 = network['b1']\n",
    "    W2 = network['W2']\n",
    "    b2 = network['b2']\n",
    "    W3 = network['W3']\n",
    "    b3 = network['b3']\n",
    "    a1 = np.dot(x, W1) + b1\n",
    "    z1 = sigmoid(a1)\n",
    "    a2 = np.dot(z1, W2) + b2\n",
    "    z2 = sigmoid(a2)\n",
    "    a3 = np.dot(z2, W3) + b3\n",
    "    y = a3 # 恒等関数\n",
    "    return y"
   ]
  },
  {
   "cell_type": "code",
   "execution_count": 3,
   "metadata": {},
   "outputs": [
    {
     "name": "stdout",
     "output_type": "stream",
     "text": [
      "[[0.31682708 0.69627909]]\n"
     ]
    }
   ],
   "source": [
    "network = init_network()\n",
    "x = np.array([1, .5])\n",
    "y = forward(network, x)\n",
    "print(y)"
   ]
  },
  {
   "cell_type": "code",
   "execution_count": 4,
   "metadata": {},
   "outputs": [],
   "source": [
    "import numpy as np\n",
    "import random  \n",
    "network = init_network()\n",
    "batch_size = 16\n",
    "x=np.random.rand(1000,2)\n",
    "for i in range(0,len(x),batch_size):\n",
    "    x_batch = x[i:i+batch_size]\n",
    "    y_batch = forward(network,x_batch)"
   ]
  }
 ],
 "metadata": {
  "kernelspec": {
   "display_name": "Python 3",
   "language": "python",
   "name": "python3"
  },
  "language_info": {
   "codemirror_mode": {
    "name": "ipython",
    "version": 3
   },
   "file_extension": ".py",
   "mimetype": "text/x-python",
   "name": "python",
   "nbconvert_exporter": "python",
   "pygments_lexer": "ipython3",
   "version": "3.6.10"
  }
 },
 "nbformat": 4,
 "nbformat_minor": 2
}
